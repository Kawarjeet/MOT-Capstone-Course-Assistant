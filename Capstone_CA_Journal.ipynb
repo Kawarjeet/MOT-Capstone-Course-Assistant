{
  "nbformat": 4,
  "nbformat_minor": 0,
  "metadata": {
    "colab": {
      "name": "Capstone CA Journal.ipynb",
      "provenance": [],
      "authorship_tag": "ABX9TyOeK1bddtp8tQMVy/0+55KC",
      "include_colab_link": true
    },
    "kernelspec": {
      "name": "python3",
      "display_name": "Python 3"
    },
    "language_info": {
      "name": "python"
    }
  },
  "cells": [
    {
      "cell_type": "markdown",
      "metadata": {
        "id": "view-in-github",
        "colab_type": "text"
      },
      "source": [
        "<a href=\"https://colab.research.google.com/github/Kawarjeet/MOT-Capstone-Course-Assistant/blob/main/Capstone_CA_Journal.ipynb\" target=\"_parent\"><img src=\"https://colab.research.google.com/assets/colab-badge.svg\" alt=\"Open In Colab\"/></a>"
      ]
    },
    {
      "cell_type": "markdown",
      "source": [
        "# MOT Capstone Project Journal"
      ],
      "metadata": {
        "id": "6n1aw0NnHDak"
      }
    },
    {
      "cell_type": "markdown",
      "source": [
        "### **01/26/2022**\n",
        "#### Microsoft Teams meeting with Professor Policastro and Lakshmi Purrushottanam\n",
        "#### Key take away points:\n",
        "*   Riipen platform to be used to handle logistics for the project. The platform also allows tracking project progress of the students by the industry professionals. \n",
        "*   Have to reach out to different NYU departments to arrange logistics and resources for the project. This includes datasets, softwares, google cloud access etc., as per the timely needs. \n",
        "\n",
        "*   The main project will start from week 3. \n",
        "\n",
        "*   The existing ACE(Automated Collateral Evaluation) model at Freddie Mac predicts valuation of the properties based on the text dataset. This helps customer get property appraisals faster and the company also gets to close loan deals faster. The company is now looking for the possibility of leveraging images and videos of properties and their surroundings for valuation. One of the reasons for this approach is to diminish the racial and ethnic valuation gaps in home purchase appraisals, as published in their article:\n",
        "http://www.freddiemac.com/research/insight/20210920_home_appraisals.page\n",
        "\n",
        "#### Follow up tasks:\n",
        "\n",
        "\n",
        "*   Acculmulating datasets for the model from across NYU resources, including leveraging work from other semesters, such as, \n",
        "https://public.tableau.com/app/profile/camila.saavedra3201/viz/LAMP_Prioritize_V1/LAMP_Prioritize?publish=yes\n",
        "\n",
        "*   Reach out to other departments working on housing and find out which groups are relevant to the capstone. Establish a point a contact at these departments to help us acquire the data. \n",
        "\n",
        "*   Find out what has already been done in the NYU space related to the capstone.\n",
        "\n",
        "\n",
        "\n",
        "\n",
        "\n",
        "\n",
        "\n",
        "\n",
        "\n",
        "\n",
        "\n"
      ],
      "metadata": {
        "id": "xiJlChxg-7X8"
      }
    },
    {
      "cell_type": "markdown",
      "source": [
        "### **01/28/2022**\n",
        "Class on Friday January 28 6-7PM in Rogers Hall, Rm 705\n"
      ],
      "metadata": {
        "id": "Jy4x_Hg1HMuq"
      }
    }
  ]
}