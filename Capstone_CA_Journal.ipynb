{
  "nbformat": 4,
  "nbformat_minor": 0,
  "metadata": {
    "colab": {
      "name": "Capstone CA Journal.ipynb",
      "provenance": [],
      "authorship_tag": "ABX9TyNYJAhuYDE998zgE3UEMJwY",
      "include_colab_link": true
    },
    "kernelspec": {
      "name": "python3",
      "display_name": "Python 3"
    },
    "language_info": {
      "name": "python"
    }
  },
  "cells": [
    {
      "cell_type": "markdown",
      "metadata": {
        "id": "view-in-github",
        "colab_type": "text"
      },
      "source": [
        "<a href=\"https://colab.research.google.com/github/Kawarjeet/MOT-Capstone-Course-Assistant/blob/main/Capstone_CA_Journal.ipynb\" target=\"_parent\"><img src=\"https://colab.research.google.com/assets/colab-badge.svg\" alt=\"Open In Colab\"/></a>"
      ]
    },
    {
      "cell_type": "markdown",
      "source": [
        "# MOT Capstone Project Journal"
      ],
      "metadata": {
        "id": "6n1aw0NnHDak"
      }
    },
    {
      "cell_type": "markdown",
      "source": [
        " A total of 25 students under me. "
      ],
      "metadata": {
        "id": "4fopW2QLG57G"
      }
    },
    {
      "cell_type": "markdown",
      "source": [
        "### **01/26/2022**\n",
        "#### Microsoft Teams meeting with Professor Policastro and Lakshmi Purrushottanam from Freddie Mac\n",
        "#### Key take away points:\n",
        "*   Riipen(learning management site) platform to be used to handle logistics for the project. The platform also allows tracking project progress of the students by the industry professionals. \n",
        "*   Have to reach out to different NYU departments to arrange logistics and resources for the project. This includes datasets, softwares, google cloud access etc., as per the timely needs. \n",
        "\n",
        "*   The main project will start from week 3. \n",
        "\n",
        "*   The existing ACE(Automated Collateral Evaluation) model at Freddie Mac predicts valuation of the properties based on the text dataset. This helps customer get property appraisals faster and the company also gets to close loan deals faster. The company is now looking for the possibility of leveraging images and videos of properties and their surroundings for valuation. One of the reasons for this approach is to diminish the racial and ethnic valuation gaps in home purchase appraisals, as published in their article:\n",
        "http://www.freddiemac.com/research/insight/20210920_home_appraisals.page\n",
        "\n",
        "#### Follow up tasks:\n",
        "\n",
        "\n",
        "*   Acculmulating datasets for the model from across NYU resources, including leveraging work from other semesters, such as, \n",
        "https://public.tableau.com/app/profile/camila.saavedra3201/viz/LAMP_Prioritize_V1/LAMP_Prioritize?publish=yes\n",
        "\n",
        "*   Reach out to other departments working on housing and find out which groups are relevant to the capstone. Establish a point a contact at these departments to help us acquire the data. \n",
        "\n",
        "*   Find out what has already been done in the NYU space related to the capstone.\n",
        "\n",
        "\n",
        "*   Throughout the semester, we will work with 3 companies: Freddie Mac, NBCU and Citizen Watch\n",
        "\n",
        "*  \n",
        "https://docs.google.com/document/d/1pkFY1q7C4cA6gduGw3P3ivr4DfnxXkbq/edit\n",
        "\n",
        "\n",
        "\n",
        "\n",
        "\n",
        "\n",
        "\n",
        "\n",
        "\n",
        "\n",
        "\n",
        "\n"
      ],
      "metadata": {
        "id": "xiJlChxg-7X8"
      }
    },
    {
      "cell_type": "markdown",
      "source": [
        "### 01/27/2022\n",
        "\n",
        "\n",
        "*   The datasets that is being provided by Freddie Mac is imbalanced and does not have enough images of the properties that can be classified as bad. The latest development on possibly getting the bad images are: \n",
        "\n",
        "\n",
        ">>>> Sourcing the data from across NYU space like wagner and furman centre.\n",
        "\n",
        ">>>> Applying image augmentation to existing images. Will try ImageDataGenerator and GAN from keras on existing cats and dogs classification project to understand the working implementation of these two techniques to generate novel images from an original image.\n",
        "\n",
        "\n",
        "\n"
      ],
      "metadata": {
        "id": "amwobyu5IGjy"
      }
    },
    {
      "cell_type": "markdown",
      "source": [
        "### **01/28/2022**\n",
        "Class on Friday January 28 6-7PM in Rogers Hall, Rm 705\n",
        "\n",
        "Key take points delivered by the professor: \n",
        "\n",
        "\n"
      ],
      "metadata": {
        "id": "Jy4x_Hg1HMuq"
      }
    },
    {
      "cell_type": "markdown",
      "source": [
        "#02/03/2022\n",
        "Meeting with Citizen Watch group with Thomas, Ranajay\n",
        "\n",
        "Christopher: \n",
        "- we have a template for statement of work. will be giving out them this week, go through them and have thm updatee it accordingly, for meet next time with the citizen group. \n",
        "- meeting students on friday \n",
        "\n",
        "\n",
        "Ranajay Nandy:\n",
        "- want the product lifecycle is on the product level. Dont want the product lifecyle on retail level.\n",
        "- want to look at product insights has to be on retailers perspective \n",
        "- will let you know on the data\n",
        "- will be available once a week to help out\n",
        "- bringing the data in snowflake (this is the data source)\n",
        "- they use power BI(which is a business intelligence tool)\n",
        "- okay with zoom meetings but prefers microsoft teams\n",
        "- the timeline is from feb to may but have global sales meeting in may and wants to present it there. so want the deadline in april and work in the last month on project presentation.\n"
      ],
      "metadata": {
        "id": "syleEjA0UuFo"
      }
    },
    {
      "cell_type": "markdown",
      "source": [
        "# 02/04/2022\n",
        "\n"
      ],
      "metadata": {
        "id": "8xYV3tiMGKrW"
      }
    },
    {
      "cell_type": "markdown",
      "source": [
        "##02/09/2022\n",
        "Meeting with Maxwell Austensen from Furman Center\n",
        "\n",
        "Key points from the meeting: \n",
        "- he asked if there are particular datasets that might fit into our needs.\n",
        "- on dataside there are a lot of connections between faculty in wagner and cusp. But there is no formalized system of sharing the data sources as such. Most of the collaboration happen through faculty interactions. \n",
        "- furman have worked with stern too on a particular based on market research about demographic. \n",
        "- most of the datasets were procured historically from agencies like city planning, zoning, housing, \n",
        "- property sales from financing departments.\n",
        "- TRAP is the latest dataset on proprietary mortgage.\n",
        "\n",
        "most of the meeeting revolved around finding out datasets that nyu has and might be of interest for the capstone project.\n",
        "\n",
        "Dataset from Stern? \n",
        "ACRIS: can help find information like when property changed hands \n",
        "TREPP website\n",
        "Infutor Data Solutions\n",
        "https://data.cityofnewyork.us/browse?q=acris\n",
        "https://www1.nyc.gov/site/finance/taxes/property-rolling-sales-data.page \n",
        "\n",
        "thank you all for taking time out of your busy schedules to be here today\n",
        "\n",
        "If we have any questions about anything we discussed today, I will reach out to you on email. "
      ],
      "metadata": {
        "id": "U3tpduo_8sMx"
      }
    }
  ]
}